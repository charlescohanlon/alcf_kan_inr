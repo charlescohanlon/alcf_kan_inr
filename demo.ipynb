{
 "cells": [
  {
   "cell_type": "code",
   "execution_count": 1,
   "id": "6d0b99a3",
   "metadata": {},
   "outputs": [],
   "source": [
    "import numpy as np\n",
    "import torch\n",
    "\n",
    "# Data parameters\n",
    "data_root = \"./data/\"\n",
    "data_path = \"nucleon_41x41x41_uint8.raw\"\n",
    "data_shape = (41, 41, 41)\n",
    "data_type = np.uint8\n",
    "\n",
    "# Fiting parameters\n",
    "batch_size = 1024\n",
    "num_workers = 3\n",
    "num_epochs = 10\n",
    "lr = 0.008\n",
    "device = torch.device(\"cpu\")  # or \"cuda\" for GPU\n",
    "dtype = torch.float32"
   ]
  },
  {
   "cell_type": "code",
   "execution_count": 2,
   "id": "5403ec1f",
   "metadata": {},
   "outputs": [],
   "source": [
    "from pathlib import Path\n",
    "\n",
    "from torch.utils.data import DataLoader\n",
    "from volumetric_dataset import VolumetricDataset\n",
    "\n",
    "# Create dataset and dataloader\n",
    "dataset = VolumetricDataset(\n",
    "    Path(data_root, data_path),\n",
    "    data_shape,\n",
    "    data_type,\n",
    "    normalize_coords=True,\n",
    "    normalize_values=True,\n",
    ")\n",
    "loader = DataLoader(dataset, batch_size, shuffle=True, num_workers=num_workers)"
   ]
  },
  {
   "cell_type": "code",
   "execution_count": 3,
   "id": "ebb2e0a8",
   "metadata": {},
   "outputs": [
    {
     "data": {
      "text/plain": [
       "FKAN_Native(\n",
       "  (fkan): FastKAN(\n",
       "    (layers): ModuleList(\n",
       "      (0): FastKANLayer(\n",
       "        (layernorm): LayerNorm((3,), eps=1e-05, elementwise_affine=True)\n",
       "        (rbf): RadialBasisFunction()\n",
       "        (spline_linear): SplineLinear(in_features=24, out_features=64, bias=False)\n",
       "        (base_linear): Linear(in_features=3, out_features=64, bias=True)\n",
       "      )\n",
       "      (1-2): 2 x FastKANLayer(\n",
       "        (layernorm): LayerNorm((64,), eps=1e-05, elementwise_affine=True)\n",
       "        (rbf): RadialBasisFunction()\n",
       "        (spline_linear): SplineLinear(in_features=512, out_features=64, bias=False)\n",
       "        (base_linear): Linear(in_features=64, out_features=64, bias=True)\n",
       "      )\n",
       "      (3): FastKANLayer(\n",
       "        (layernorm): LayerNorm((64,), eps=1e-05, elementwise_affine=True)\n",
       "        (rbf): RadialBasisFunction()\n",
       "        (spline_linear): SplineLinear(in_features=512, out_features=1, bias=False)\n",
       "        (base_linear): Linear(in_features=64, out_features=1, bias=True)\n",
       "      )\n",
       "    )\n",
       "  )\n",
       ")"
      ]
     },
     "execution_count": 3,
     "metadata": {},
     "output_type": "execute_result"
    }
   ],
   "source": [
    "# from networks import INR_Base\n",
    "\n",
    "# Create model\n",
    "# kan_inr = INR_Base(\n",
    "#     n_input_dims=3,\n",
    "#     n_output_dims=1,\n",
    "#     network=\"F-KAN\",\n",
    "#     n_hidden_layers=3,\n",
    "#     n_neurons=64,\n",
    "#     activation=\"SiLU\",  # Base activation\n",
    "# )\n",
    "from networks import FKAN_Native\n",
    "\n",
    "kan_inr = FKAN_Native(\n",
    "    n_input_dims=3,\n",
    "    n_output_dims=1,\n",
    "    n_hidden_layers=3,\n",
    "    n_neurons=64,\n",
    "    activation=\"SiLU\",  # Base activation\n",
    ")\n",
    "kan_inr"
   ]
  },
  {
   "cell_type": "code",
   "execution_count": 4,
   "id": "7f3e805c",
   "metadata": {},
   "outputs": [
    {
     "name": "stderr",
     "output_type": "stream",
     "text": [
      "100%|██████████| 68/68 [00:03<00:00, 19.50it/s]\n"
     ]
    },
    {
     "name": "stdout",
     "output_type": "stream",
     "text": [
      "Epoch 1/10, Loss: 0.164501\n"
     ]
    },
    {
     "name": "stderr",
     "output_type": "stream",
     "text": [
      "100%|██████████| 68/68 [00:02<00:00, 25.22it/s]\n"
     ]
    },
    {
     "name": "stdout",
     "output_type": "stream",
     "text": [
      "Epoch 2/10, Loss: 0.005943\n"
     ]
    },
    {
     "name": "stderr",
     "output_type": "stream",
     "text": [
      "100%|██████████| 68/68 [00:02<00:00, 28.47it/s]\n"
     ]
    },
    {
     "name": "stdout",
     "output_type": "stream",
     "text": [
      "Epoch 3/10, Loss: 0.003735\n"
     ]
    },
    {
     "name": "stderr",
     "output_type": "stream",
     "text": [
      "100%|██████████| 68/68 [00:02<00:00, 28.36it/s]\n"
     ]
    },
    {
     "name": "stdout",
     "output_type": "stream",
     "text": [
      "Epoch 4/10, Loss: 0.003420\n"
     ]
    },
    {
     "name": "stderr",
     "output_type": "stream",
     "text": [
      "100%|██████████| 68/68 [00:02<00:00, 30.38it/s]\n"
     ]
    },
    {
     "name": "stdout",
     "output_type": "stream",
     "text": [
      "Epoch 5/10, Loss: 0.003151\n"
     ]
    },
    {
     "name": "stderr",
     "output_type": "stream",
     "text": [
      "100%|██████████| 68/68 [00:02<00:00, 25.24it/s]\n"
     ]
    },
    {
     "name": "stdout",
     "output_type": "stream",
     "text": [
      "Epoch 6/10, Loss: 0.002179\n"
     ]
    },
    {
     "name": "stderr",
     "output_type": "stream",
     "text": [
      "100%|██████████| 68/68 [00:02<00:00, 25.89it/s]\n"
     ]
    },
    {
     "name": "stdout",
     "output_type": "stream",
     "text": [
      "Epoch 7/10, Loss: 0.002175\n"
     ]
    },
    {
     "name": "stderr",
     "output_type": "stream",
     "text": [
      "100%|██████████| 68/68 [00:02<00:00, 27.81it/s]\n"
     ]
    },
    {
     "name": "stdout",
     "output_type": "stream",
     "text": [
      "Epoch 8/10, Loss: 0.002881\n"
     ]
    },
    {
     "name": "stderr",
     "output_type": "stream",
     "text": [
      "100%|██████████| 68/68 [00:02<00:00, 26.27it/s]\n"
     ]
    },
    {
     "name": "stdout",
     "output_type": "stream",
     "text": [
      "Epoch 9/10, Loss: 0.001414\n"
     ]
    },
    {
     "name": "stderr",
     "output_type": "stream",
     "text": [
      "100%|██████████| 68/68 [00:02<00:00, 24.29it/s]"
     ]
    },
    {
     "name": "stdout",
     "output_type": "stream",
     "text": [
      "Epoch 10/10, Loss: 0.001385\n"
     ]
    },
    {
     "name": "stderr",
     "output_type": "stream",
     "text": [
      "\n"
     ]
    }
   ],
   "source": [
    "from torch.optim import AdamW\n",
    "import torch.nn as nn\n",
    "from tqdm import tqdm\n",
    "\n",
    "\n",
    "kan_inr.to(device, dtype)\n",
    "optimizer = AdamW(kan_inr.parameters(), lr=lr)\n",
    "loss_fn = nn.functional.mse_loss\n",
    "loader.dataset.return_indices = False\n",
    "\n",
    "# Training loop\n",
    "epoch_losses = []\n",
    "for epoch in range(num_epochs):\n",
    "    loss_total = 0.0\n",
    "    for x, y_hat in tqdm(loader):\n",
    "        x = x.to(device, dtype)\n",
    "        y_hat = y_hat.to(device, dtype)\n",
    "        y = kan_inr(x)\n",
    "        loss = loss_fn(y, y_hat)\n",
    "        optimizer.zero_grad()\n",
    "        loss.backward()\n",
    "        optimizer.step()\n",
    "        loss_total += loss.item()\n",
    "\n",
    "    avg_loss = loss_total / len(loader)\n",
    "    epoch_losses.append(avg_loss)\n",
    "    print(f\"Epoch {epoch+1}/{num_epochs}, Loss: {avg_loss:.6f}\")"
   ]
  },
  {
   "cell_type": "code",
   "execution_count": 7,
   "id": "b952477e",
   "metadata": {},
   "outputs": [
    {
     "name": "stdout",
     "output_type": "stream",
     "text": [
      "odict_keys(['fkan.layers.0.layernorm.weight', 'fkan.layers.0.layernorm.bias', 'fkan.layers.0.rbf.grid', 'fkan.layers.0.spline_linear.weight', 'fkan.layers.0.base_linear.weight', 'fkan.layers.0.base_linear.bias', 'fkan.layers.1.layernorm.weight', 'fkan.layers.1.layernorm.bias', 'fkan.layers.1.rbf.grid', 'fkan.layers.1.spline_linear.weight', 'fkan.layers.1.base_linear.weight', 'fkan.layers.1.base_linear.bias', 'fkan.layers.2.layernorm.weight', 'fkan.layers.2.layernorm.bias', 'fkan.layers.2.rbf.grid', 'fkan.layers.2.spline_linear.weight', 'fkan.layers.2.base_linear.weight', 'fkan.layers.2.base_linear.bias', 'fkan.layers.3.layernorm.weight', 'fkan.layers.3.layernorm.bias', 'fkan.layers.3.rbf.grid', 'fkan.layers.3.spline_linear.weight', 'fkan.layers.3.base_linear.weight', 'fkan.layers.3.base_linear.bias'])\n"
     ]
    }
   ],
   "source": [
    "from pprint import pprint\n",
    "pprint(kan_inr.state_dict().keys())"
   ]
  },
  {
   "cell_type": "code",
   "execution_count": 5,
   "id": "d340ca4e",
   "metadata": {},
   "outputs": [
    {
     "data": {
      "image/png": "[encoded data removed]",
      "text/plain": [
       "<Figure size 640x480 with 1 Axes>"
      ]
     },
     "metadata": {},
     "output_type": "display_data"
    }
   ],
   "source": [
    "import matplotlib.pyplot as plt\n",
    "\n",
    "# Plot training loss\n",
    "plt.figure()\n",
    "plt.plot(range(1, num_epochs + 1), epoch_losses, marker='o')\n",
    "plt.title('Training Loss over Epochs')\n",
    "plt.xlabel('Epoch')\n",
    "plt.ylabel('Loss')\n",
    "plt.show()"
   ]
  },
  {
   "cell_type": "code",
   "execution_count": null,
   "id": "0c532d2f",
   "metadata": {},
   "outputs": [
    {
     "name": "stderr",
     "output_type": "stream",
     "text": [
      "/grand/insitu/cohanlon/miniconda3/envs/alcf_kan_inr/lib/python3.10/site-packages/torchmetrics/utilities/prints.py:70: FutureWarning: Importing `peak_signal_noise_ratio` from `torchmetrics.functional` was deprecated and will be removed in 2.0. Import `peak_signal_noise_ratio` from `torchmetrics.image` instead.\n",
      "  _future_warning(\n",
      "/grand/insitu/cohanlon/miniconda3/envs/alcf_kan_inr/lib/python3.10/site-packages/torchmetrics/utilities/prints.py:70: FutureWarning: Importing `spectral_angle_mapper` from `torchmetrics.functional` was deprecated and will be removed in 2.0. Import `spectral_angle_mapper` from `torchmetrics.image` instead.\n",
      "  _future_warning(\n"
     ]
    },
    {
     "name": "stdout",
     "output_type": "stream",
     "text": [
      "Peak Signal-to-Noise Ratio (PSNR): 29.80 dB\n",
      "Structural Similarity Index (SSIM): 0.8346\n"
     ]
    }
   ],
   "source": [
    "from torchmetrics.functional import peak_signal_noise_ratio, structural_similarity_index_measure\n",
    "\n",
    "# Reconstruct the entire volume from the INR\n",
    "kan_inr.eval()\n",
    "with torch.no_grad():\n",
    "    reconst_data = torch.zeros(dataset.data_shape, device=device, dtype=dtype)\n",
    "    loader.dataset.return_indices = True\n",
    "    for x, _, (i, j, k) in loader:\n",
    "        x = x.to(device, dtype)\n",
    "        y = kan_inr(x)\n",
    "        for y_s, i_s, j_s, k_s in zip(y, i, j, k):\n",
    "            reconst_data[i_s.item(), j_s.item(), k_s.item()] = y_s.item()\n",
    "\n",
    "gt_data = torch.tensor(\n",
    "    dataset.data.reshape(dataset.data_shape, order=\"F\"), device=device, dtype=dtype\n",
    ")\n",
    "reconst_data = torch.clip(reconst_data, 0.0, 1.0)\n",
    "\n",
    "psnr = peak_signal_noise_ratio(reconst_data, gt_data)\n",
    "print(f\"Peak Signal-to-Noise Ratio (PSNR): {psnr:.2f} dB\")\n",
    "ssim = structural_similarity_index_measure(reconst_data.unsqueeze(0), gt_data.unsqueeze(0))\n",
    "print(f\"Structural Similarity Index (SSIM): {ssim:.4f}\")"
   ]
  },
  {
   "cell_type": "code",
   "execution_count": null,
   "id": "c68e0513",
   "metadata": {},
   "outputs": [],
   "source": [
    "# NOTE: this doesn't work on Sophia, and has to be set up on local machine\n",
    "import pyvista as pv\n",
    "\n",
    "# Visualize ground truth and reconstructed data\n",
    "gt_grid = pv.ImageData()\n",
    "gt_grid.dimensions = np.array(dataset.data_shape) + 1\n",
    "gt_grid.origin = (0, 0, 0)\n",
    "gt_grid.spacing = (1, 1, 1)\n",
    "gt_grid.cell_data[\"values\"] = dataset.data.flatten(order=\"F\")\n",
    "reconst_grid = pv.ImageData()\n",
    "reconst_grid.dimensions = np.array(dataset.data_shape) + 1\n",
    "reconst_grid.origin = (0, 0, 0)\n",
    "reconst_grid.spacing = (1, 1, 1)\n",
    "reconst_grid.cell_data[\"values\"] = reconst_data.flatten(order=\"F\")\n",
    "p = pv.Plotter(shape=(1, 2))\n",
    "# p.add_mesh(gt_grid.contour(), scalars=\"values\")\n",
    "p.subplot(0, 1)\n",
    "# p.add_mesh(reconst_grid.contour(), scalars=\"values\")\n",
    "p.show()()"
   ]
  }
 ],
 "metadata": {
  "kernelspec": {
   "display_name": "alcf_kan_inr",
   "language": "python",
   "name": "python3"
  },
  "language_info": {
   "codemirror_mode": {
    "name": "ipython",
    "version": 3
   },
   "file_extension": ".py",
   "mimetype": "text/x-python",
   "name": "python",
   "nbconvert_exporter": "python",
   "pygments_lexer": "ipython3",
   "version": "3.10.18"
  }
 },
 "nbformat": 4,
 "nbformat_minor": 5
}
