{
 "cells": [
  {
   "cell_type": "code",
   "execution_count": 1,
   "id": "6d0b99a3",
   "metadata": {},
   "outputs": [],
   "source": [
    "import numpy as np\n",
    "import torch\n",
    "\n",
    "# Data parameters\n",
    "data_root = \"./data/\"\n",
    "data_path = \"nucleon_41x41x41_uint8.raw\"\n",
    "data_shape = (41, 41, 41)\n",
    "data_type = np.uint8\n",
    "\n",
    "# Fiting parameters\n",
    "batch_size = 1024\n",
    "num_workers = 3\n",
    "num_epochs = 10\n",
    "lr = 0.008\n",
    "device = torch.device(\"cpu\")\n",
    "dtype = torch.float32"
   ]
  },
  {
   "cell_type": "code",
   "execution_count": 2,
   "id": "5403ec1f",
   "metadata": {},
   "outputs": [],
   "source": [
    "from pathlib import Path\n",
    "\n",
    "from torch.utils.data import DataLoader\n",
    "from volumetric_dataset import VolumetricDataset\n",
    "\n",
    "# Create dataset and dataloader\n",
    "dataset = VolumetricDataset(\n",
    "    Path(data_root, data_path),\n",
    "    data_shape,\n",
    "    data_type,\n",
    "    normalize_coords=True,\n",
    "    normalize_values=True,\n",
    ")\n",
    "loader = DataLoader(dataset, batch_size, shuffle=True, num_workers=num_workers)"
   ]
  },
  {
   "cell_type": "code",
   "execution_count": 4,
   "id": "ebb2e0a8",
   "metadata": {},
   "outputs": [
    {
     "data": {
      "text/plain": [
       "FKAN_Native(\n",
       "  (fkan): FastKAN(\n",
       "    (layers): ModuleList(\n",
       "      (0): FastKANLayer(\n",
       "        (layernorm): LayerNorm((3,), eps=1e-05, elementwise_affine=True)\n",
       "        (rbf): RadialBasisFunction()\n",
       "        (spline_linear): SplineLinear(in_features=24, out_features=64, bias=False)\n",
       "        (base_linear): Linear(in_features=3, out_features=64, bias=True)\n",
       "      )\n",
       "      (1-2): 2 x FastKANLayer(\n",
       "        (layernorm): LayerNorm((64,), eps=1e-05, elementwise_affine=True)\n",
       "        (rbf): RadialBasisFunction()\n",
       "        (spline_linear): SplineLinear(in_features=512, out_features=64, bias=False)\n",
       "        (base_linear): Linear(in_features=64, out_features=64, bias=True)\n",
       "      )\n",
       "      (3): FastKANLayer(\n",
       "        (layernorm): LayerNorm((64,), eps=1e-05, elementwise_affine=True)\n",
       "        (rbf): RadialBasisFunction()\n",
       "        (spline_linear): SplineLinear(in_features=512, out_features=1, bias=False)\n",
       "        (base_linear): Linear(in_features=64, out_features=1, bias=True)\n",
       "      )\n",
       "    )\n",
       "  )\n",
       ")"
      ]
     },
     "execution_count": 4,
     "metadata": {},
     "output_type": "execute_result"
    }
   ],
   "source": [
    "from networks import INR_Base\n",
    "\n",
    "# Create model\n",
    "# kan_inr = INR_Base(\n",
    "#     n_input_dims=3,\n",
    "#     n_output_dims=1,\n",
    "#     network=\"F-KAN\",\n",
    "#     n_hidden_layers=3,\n",
    "#     n_neurons=64,\n",
    "#     activation=\"SiLU\",  # Base activation\n",
    "# )\n",
    "from networks import FKAN_Native\n",
    "\n",
    "kan_inr = FKAN_Native(\n",
    "    n_input_dims=3,\n",
    "    n_output_dims=1,\n",
    "    n_hidden_layers=3,\n",
    "    n_neurons=64,\n",
    "    activation=\"SiLU\",  # Base activation\n",
    ")\n",
    "kan_inr"
   ]
  },
  {
   "cell_type": "code",
   "execution_count": 5,
   "id": "7f3e805c",
   "metadata": {},
   "outputs": [
    {
     "name": "stderr",
     "output_type": "stream",
     "text": [
      "100%|██████████| 68/68 [00:03<00:00, 21.89it/s]\n"
     ]
    },
    {
     "name": "stdout",
     "output_type": "stream",
     "text": [
      "Epoch 1/10, Loss: 0.187785\n"
     ]
    },
    {
     "name": "stderr",
     "output_type": "stream",
     "text": [
      "100%|██████████| 68/68 [00:03<00:00, 21.03it/s]\n"
     ]
    },
    {
     "name": "stdout",
     "output_type": "stream",
     "text": [
      "Epoch 2/10, Loss: 0.006069\n"
     ]
    },
    {
     "name": "stderr",
     "output_type": "stream",
     "text": [
      "100%|██████████| 68/68 [00:02<00:00, 26.05it/s]\n"
     ]
    },
    {
     "name": "stdout",
     "output_type": "stream",
     "text": [
      "Epoch 3/10, Loss: 0.006106\n"
     ]
    },
    {
     "name": "stderr",
     "output_type": "stream",
     "text": [
      "100%|██████████| 68/68 [00:02<00:00, 24.61it/s]\n"
     ]
    },
    {
     "name": "stdout",
     "output_type": "stream",
     "text": [
      "Epoch 4/10, Loss: 0.004065\n"
     ]
    },
    {
     "name": "stderr",
     "output_type": "stream",
     "text": [
      "100%|██████████| 68/68 [00:02<00:00, 22.72it/s]\n"
     ]
    },
    {
     "name": "stdout",
     "output_type": "stream",
     "text": [
      "Epoch 5/10, Loss: 0.003564\n"
     ]
    },
    {
     "name": "stderr",
     "output_type": "stream",
     "text": [
      "100%|██████████| 68/68 [00:02<00:00, 25.94it/s]\n"
     ]
    },
    {
     "name": "stdout",
     "output_type": "stream",
     "text": [
      "Epoch 6/10, Loss: 0.003282\n"
     ]
    },
    {
     "name": "stderr",
     "output_type": "stream",
     "text": [
      "100%|██████████| 68/68 [00:02<00:00, 23.70it/s]\n"
     ]
    },
    {
     "name": "stdout",
     "output_type": "stream",
     "text": [
      "Epoch 7/10, Loss: 0.002047\n"
     ]
    },
    {
     "name": "stderr",
     "output_type": "stream",
     "text": [
      "100%|██████████| 68/68 [00:02<00:00, 25.20it/s]\n"
     ]
    },
    {
     "name": "stdout",
     "output_type": "stream",
     "text": [
      "Epoch 8/10, Loss: 0.001814\n"
     ]
    },
    {
     "name": "stderr",
     "output_type": "stream",
     "text": [
      "100%|██████████| 68/68 [00:02<00:00, 26.02it/s]\n"
     ]
    },
    {
     "name": "stdout",
     "output_type": "stream",
     "text": [
      "Epoch 9/10, Loss: 0.002618\n"
     ]
    },
    {
     "name": "stderr",
     "output_type": "stream",
     "text": [
      "100%|██████████| 68/68 [00:02<00:00, 27.60it/s]"
     ]
    },
    {
     "name": "stdout",
     "output_type": "stream",
     "text": [
      "Epoch 10/10, Loss: 0.001769\n"
     ]
    },
    {
     "name": "stderr",
     "output_type": "stream",
     "text": [
      "\n"
     ]
    }
   ],
   "source": [
    "from torch.optim import AdamW\n",
    "import torch.nn as nn\n",
    "from tqdm import tqdm\n",
    "\n",
    "\n",
    "kan_inr.to(device, dtype)\n",
    "optimizer = AdamW(kan_inr.parameters(), lr=lr)\n",
    "loss_fn = nn.functional.mse_loss\n",
    "loader.dataset.return_indices = False\n",
    "\n",
    "# Training loop\n",
    "epoch_losses = []\n",
    "for epoch in range(num_epochs):\n",
    "    loss_total = 0.0\n",
    "    for x, y_hat in tqdm(loader):\n",
    "        x = x.to(device, dtype)\n",
    "        y_hat = y_hat.to(device, dtype)\n",
    "        y = kan_inr(x)\n",
    "        loss = loss_fn(y, y_hat)\n",
    "        optimizer.zero_grad()\n",
    "        loss.backward()\n",
    "        optimizer.step()\n",
    "        loss_total += loss.item()\n",
    "\n",
    "    avg_loss = loss_total / len(loader)\n",
    "    epoch_losses.append(avg_loss)\n",
    "    print(f\"Epoch {epoch+1}/{num_epochs}, Loss: {avg_loss:.6f}\")"
   ]
  },
  {
   "cell_type": "code",
   "execution_count": 6,
   "id": "d340ca4e",
   "metadata": {},
   "outputs": [
    {
     "data": {
      "image/png": "[encoded data removed]",
      "text/plain": [
       "<Figure size 640x480 with 1 Axes>"
      ]
     },
     "metadata": {},
     "output_type": "display_data"
    }
   ],
   "source": [
    "import matplotlib.pyplot as plt\n",
    "\n",
    "# Plot training loss\n",
    "plt.figure()\n",
    "plt.plot(range(1, num_epochs + 1), epoch_losses, marker='o')\n",
    "plt.title('Training Loss over Epochs')\n",
    "plt.xlabel('Epoch')\n",
    "plt.ylabel('Loss')\n",
    "plt.show()"
   ]
  },
  {
   "cell_type": "code",
   "execution_count": 7,
   "id": "0c532d2f",
   "metadata": {},
   "outputs": [
    {
     "data": {
      "text/plain": [
       "array([[[ 16.9296    ,  13.218262  ,  -5.0580916 , ...,  -2.6829972 ,\n",
       "          -4.123266  ,  -6.237565  ],\n",
       "        [-11.320011  ,   1.9994842 ,  -5.746517  , ...,  -9.773284  ,\n",
       "         -11.799498  , -14.47356   ],\n",
       "        [ -4.937608  , -21.90909   ,   0.8508516 , ...,  -9.106646  ,\n",
       "         -11.167158  , -13.242008  ],\n",
       "        ...,\n",
       "        [  1.3850734 ,  -0.43070197,  -1.4472892 , ...,   7.4994683 ,\n",
       "           5.9330015 ,   3.0196037 ],\n",
       "        [  1.8834529 ,  -0.07201123,  -1.8891373 , ...,   6.3927927 ,\n",
       "           6.851159  ,   4.2134438 ],\n",
       "        [  2.367243  ,   0.07668632,  -2.639452  , ...,   5.9112287 ,\n",
       "           6.7778273 ,   5.156476  ]],\n",
       "\n",
       "       [[-10.169152  ,  10.01762   , -18.699856  , ...,   0.30312395,\n",
       "          -0.6716101 ,  -1.7296053 ],\n",
       "        [ -1.1418054 ,  13.032682  ,  12.40812   , ...,  -4.79222   ,\n",
       "          -7.067401  ,  -9.989466  ],\n",
       "        [-15.816691  , -11.735768  ,  -0.3937168 , ..., -10.894548  ,\n",
       "         -13.516131  , -16.642149  ],\n",
       "        ...,\n",
       "        [  2.2080379 ,   2.2326155 ,   1.562623  , ...,   6.043927  ,\n",
       "           4.6803293 ,   1.6681762 ],\n",
       "        [  2.710736  ,   3.0766845 ,   1.9740161 , ...,   4.7811184 ,\n",
       "           5.6928797 ,   3.2125735 ],\n",
       "        [  3.5598512 ,   4.0015063 ,   2.3377826 , ...,   4.320407  ,\n",
       "           5.550757  ,   4.3457265 ]],\n",
       "\n",
       "       [[ -3.053101  ,  -6.822456  ,  12.072938  , ...,  -7.0822277 ,\n",
       "          -6.8877287 ,  -6.201648  ],\n",
       "        [ 14.045545  ,  -7.1196284 ,   9.051034  , ...,  -2.44246   ,\n",
       "          -4.082675  ,  -5.8784733 ],\n",
       "        [  0.19743723,   4.3229594 ,   6.362501  , ...,  -5.2204137 ,\n",
       "          -7.8610973 , -11.244735  ],\n",
       "        ...,\n",
       "        [ -0.47454393,   2.1336815 ,   3.1543205 , ...,   5.030115  ,\n",
       "           3.894187  ,   0.657852  ],\n",
       "        [ -0.36706138,   3.1276355 ,   4.2327824 , ...,   3.4583054 ,\n",
       "           4.9258533 ,   2.609101  ],\n",
       "        [  0.4878568 ,   4.4924054 ,   5.5050898 , ...,   2.8823638 ,\n",
       "           4.585002  ,   3.8771489 ]],\n",
       "\n",
       "       ...,\n",
       "\n",
       "       [[  0.8819892 ,  -0.44818532,   0.80423427, ...,   6.23007   ,\n",
       "           2.7014453 ,  -7.105781  ],\n",
       "        [  1.5083771 ,   0.5477128 ,  -0.16287124, ...,   5.8728337 ,\n",
       "           3.1148124 ,  -5.053921  ],\n",
       "        [  2.5744016 ,   0.6558929 ,  -0.26784557, ...,   5.4532776 ,\n",
       "           3.3827915 ,  -3.191083  ],\n",
       "        ...,\n",
       "        [ -1.4138957 ,  -0.68976134,   0.04079944, ...,  -4.0220766 ,\n",
       "           4.7662024 ,   8.477111  ],\n",
       "        [  1.2643819 ,   1.1740711 ,   1.0181754 , ...,   4.0288    ,\n",
       "         -15.448858  ,  17.000128  ],\n",
       "        [  1.8880538 ,   1.4890683 ,   1.0775564 , ...,  -4.162344  ,\n",
       "          18.147127  , -11.808239  ]],\n",
       "\n",
       "       [[  2.060008  ,   1.8110261 ,   2.9601483 , ...,   2.5371938 ,\n",
       "           4.958282  ,  -2.773783  ],\n",
       "        [  2.111271  ,   1.5199683 ,   1.8311365 , ...,   2.6223397 ,\n",
       "           4.5670586 ,  -2.0962067 ],\n",
       "        [  2.416428  ,   0.9658588 ,   0.45633334, ...,   2.5761826 ,\n",
       "           4.1101317 ,  -1.4747016 ],\n",
       "        ...,\n",
       "        [ -8.979305  ,  -7.9524474 ,  -6.6861954 , ...,   0.41541517,\n",
       "          -8.952902  ,  -8.699705  ],\n",
       "        [ -5.8312626 ,  -5.4510813 ,  -4.9907703 , ...,  -4.5945005 ,\n",
       "          -0.34644645,   5.527708  ],\n",
       "        [ -2.185078  ,  -2.4658208 ,  -2.7704883 , ...,  -9.432106  ,\n",
       "           4.370126  , -13.080829  ]],\n",
       "\n",
       "       [[  3.7476265 ,   4.342387  ,   5.285108  , ...,  -0.44812596,\n",
       "           2.0823743 ,   1.3868841 ],\n",
       "        [  2.9631763 ,   2.8588846 ,   3.838546  , ...,   0.5728989 ,\n",
       "           2.050064  ,   0.97580266],\n",
       "        [  2.3006194 ,   1.5036724 ,   1.471674  , ...,   1.3188801 ,\n",
       "           1.8711344 ,   0.5611444 ],\n",
       "        ...,\n",
       "        [-10.473849  ,  -9.664184  ,  -8.5403805 , ...,  -3.1941552 ,\n",
       "         -14.243071  ,  -2.2437613 ],\n",
       "        [-13.575498  , -13.02872   , -12.171902  , ...,   3.3310094 ,\n",
       "          -0.88461614, -11.730173  ],\n",
       "        [-11.096127  , -11.038482  , -10.829394  , ...,   4.9180613 ,\n",
       "          -5.3465667 ,   2.0962214 ]]], shape=(41, 41, 41), dtype=float32)"
      ]
     },
     "execution_count": 7,
     "metadata": {},
     "output_type": "execute_result"
    }
   ],
   "source": [
    "# Reconstruct the entire volume from the INR\n",
    "kan_inr.eval()\n",
    "with torch.no_grad():\n",
    "    reconst_data = torch.zeros(dataset.data_shape, device=device, dtype=dtype)\n",
    "    loader.dataset.return_indices = True\n",
    "    for x, _, (i, j, k) in loader:\n",
    "        x = x.to(device, dtype)\n",
    "        y = kan_inr(x)\n",
    "        for y_s, i_s, j_s, k_s in zip(y, i, j, k):\n",
    "            reconst_data[i_s.item(), j_s.item(), k_s.item()] = y_s.item()\n",
    "\n",
    "reconst_data = reconst_data.cpu().numpy()\n",
    "\n",
    "# Rescale back to original range\n",
    "data_min, data_max = dataset.data_range\n",
    "data_range = data_max - data_min\n",
    "reconst_data = reconst_data * data_range + data_min\n",
    "reconst_data"
   ]
  },
  {
   "cell_type": "code",
   "execution_count": null,
   "id": "c68e0513",
   "metadata": {},
   "outputs": [],
   "source": [
    "import pyvista as pv\n",
    "\n",
    "# Visualize ground truth and reconstructed data\n",
    "gt_grid = pv.ImageData()\n",
    "gt_grid.dimensions = np.array(dataset.data_shape) + 1\n",
    "gt_grid.origin = (0, 0, 0)\n",
    "gt_grid.spacing = (1, 1, 1)\n",
    "gt_grid.cell_data[\"values\"] = dataset.data.flatten(order=\"F\")\n",
    "reconst_grid = pv.ImageData()\n",
    "reconst_grid.dimensions = np.array(dataset.data_shape) + 1\n",
    "reconst_grid.origin = (0, 0, 0)\n",
    "reconst_grid.spacing = (1, 1, 1)\n",
    "reconst_grid.cell_data[\"values\"] = reconst_data.flatten(order=\"F\")\n",
    "p = pv.Plotter(shape=(1, 2))\n",
    "# p.add_mesh(gt_grid.contour(), scalars=\"values\")\n",
    "p.subplot(0, 1)\n",
    "# p.add_mesh(reconst_grid.contour(), scalars=\"values\")\n",
    "p.show()()"
   ]
  }
 ],
 "metadata": {
  "kernelspec": {
   "display_name": "alcf_kan_inr",
   "language": "python",
   "name": "python3"
  },
  "language_info": {
   "codemirror_mode": {
    "name": "ipython",
    "version": 3
   },
   "file_extension": ".py",
   "mimetype": "text/x-python",
   "name": "python",
   "nbconvert_exporter": "python",
   "pygments_lexer": "ipython3",
   "version": "3.10.18"
  }
 },
 "nbformat": 4,
 "nbformat_minor": 5
}
