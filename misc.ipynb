{
 "cells": [
  {
   "cell_type": "code",
   "execution_count": null,
   "id": "a175aaf5",
   "metadata": {},
   "outputs": [
    {
     "name": "stdout",
     "output_type": "stream",
     "text": [
      "Processing lobster with shape (301, 324, 56) and dtype uint8\n",
      "Partition: (0-128, 0-128, 0-56)\n",
      "Writing partition to /grand/insitu/cohanlon/datasets/partitions/lobster_128x128x56_uint8_id0.raw\n",
      "\n",
      "Partition: (0-128, 128-256, 0-56)\n",
      "Writing partition to /grand/insitu/cohanlon/datasets/partitions/lobster_128x128x56_uint8_id1.raw\n",
      "\n",
      "Partition: (0-128, 256-324, 0-56)\n",
      "Writing partition to /grand/insitu/cohanlon/datasets/partitions/lobster_128x68x56_uint8_id2.raw\n",
      "\n",
      "Partition: (128-256, 0-128, 0-56)\n",
      "Writing partition to /grand/insitu/cohanlon/datasets/partitions/lobster_128x128x56_uint8_id3.raw\n",
      "\n",
      "Partition: (128-256, 128-256, 0-56)\n",
      "Writing partition to /grand/insitu/cohanlon/datasets/partitions/lobster_128x128x56_uint8_id4.raw\n",
      "\n",
      "Partition: (128-256, 256-324, 0-56)\n",
      "Writing partition to /grand/insitu/cohanlon/datasets/partitions/lobster_128x68x56_uint8_id5.raw\n",
      "\n",
      "Partition: (256-301, 0-128, 0-56)\n",
      "Writing partition to /grand/insitu/cohanlon/datasets/partitions/lobster_45x128x56_uint8_id6.raw\n",
      "\n",
      "Partition: (256-301, 128-256, 0-56)\n",
      "Writing partition to /grand/insitu/cohanlon/datasets/partitions/lobster_45x128x56_uint8_id7.raw\n",
      "\n",
      "Partition: (256-301, 256-324, 0-56)\n",
      "Writing partition to /grand/insitu/cohanlon/datasets/partitions/lobster_45x68x56_uint8_id8.raw\n",
      "\n"
     ]
    }
   ],
   "source": [
    "import os\n",
    "from pathlib import Path\n",
    "from einops import rearrange\n",
    "import numpy as np\n",
    "\n",
    "datasets = Path(\"/grand/insitu/cohanlon/datasets/\")\n",
    "raw_datasets = datasets / \"raw\"\n",
    "\n",
    "partition_size = 128\n",
    "partitions = datasets / \"partitions\"\n",
    "\n",
    "# Make volumetric dataset partitions\n",
    "for filename in raw_datasets.iterdir():\n",
    "    if not filename.name.endswith(\".raw\"):\n",
    "        raise ValueError(f\"Unexpected file format: {filename}\")\n",
    "    metadata = filename.name[: -len(\".raw\")].split(\"_\")\n",
    "\n",
    "    name = \"_\".join(metadata[:-2])\n",
    "    if name != \"lobster\":\n",
    "        continue\n",
    "    shape = tuple(int(dim) for dim in metadata[-2].split(\"x\"))\n",
    "    dtype = np.dtype(metadata[-1])\n",
    "    print(f\"Processing {name} with shape {shape} and dtype {dtype}...\")\n",
    "\n",
    "    arr = np.fromfile(filename, dtype=dtype).reshape(shape, order=\"F\")\n",
    "    partition_id = 0\n",
    "    for i in range(0, shape[0], partition_size):\n",
    "        for j in range(0, shape[1], partition_size):\n",
    "            for k in range(0, shape[2], partition_size):\n",
    "                partition_shape = (\n",
    "                    min(partition_size, shape[0] - i),\n",
    "                    min(partition_size, shape[1] - j),\n",
    "                    min(partition_size, shape[2] - k),\n",
    "                )\n",
    "                partition = arr[\n",
    "                    i : i + partition_shape[0],\n",
    "                    j : j + partition_shape[1],\n",
    "                    k : k + partition_shape[2],\n",
    "                ]\n",
    "                fname = f\"{name}_{'x'.join([str(s) for s in partition_shape])}_{dtype}_id{partition_id}.raw\"\n",
    "                partition_id += 1\n",
    "                partition_filename = partitions / fname\n",
    "                partition.tofile(partition_filename)\n",
    "                \n",
    "    print(\"Done.\")"
   ]
  },
  {
   "cell_type": "code",
   "execution_count": null,
   "id": "ada2f030",
   "metadata": {},
   "outputs": [],
   "source": [
    "import os\n",
    "\n"
   ]
  }
 ],
 "metadata": {
  "kernelspec": {
   "display_name": "alcf_kan_inr",
   "language": "python",
   "name": "python3"
  },
  "language_info": {
   "codemirror_mode": {
    "name": "ipython",
    "version": 3
   },
   "file_extension": ".py",
   "mimetype": "text/x-python",
   "name": "python",
   "nbconvert_exporter": "python",
   "pygments_lexer": "ipython3",
   "version": "3.10.18"
  }
 },
 "nbformat": 4,
 "nbformat_minor": 5
}
